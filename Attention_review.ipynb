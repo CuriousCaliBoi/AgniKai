{
  "nbformat": 4,
  "nbformat_minor": 0,
  "metadata": {
    "colab": {
      "provenance": [],
      "authorship_tag": "ABX9TyMfGYGf4n4CCfwQ8sl3ijpk",
      "include_colab_link": true
    },
    "kernelspec": {
      "name": "python3",
      "display_name": "Python 3"
    },
    "language_info": {
      "name": "python"
    }
  },
  "cells": [
    {
      "cell_type": "markdown",
      "metadata": {
        "id": "view-in-github",
        "colab_type": "text"
      },
      "source": [
        "<a href=\"https://colab.research.google.com/github/CuriousCaliBoi/AgniKai/blob/main/Attention_review.ipynb\" target=\"_parent\"><img src=\"https://colab.research.google.com/assets/colab-badge.svg\" alt=\"Open In Colab\"/></a>"
      ]
    },
    {
      "cell_type": "code",
      "execution_count": null,
      "metadata": {
        "colab": {
          "base_uri": "https://localhost:8080/",
          "height": 1000
        },
        "id": "-HxSPEi6nbIJ",
        "outputId": "9beaf288-5b38-466e-e791-8953e8b8ae1d"
      },
      "outputs": [
        {
          "output_type": "stream",
          "name": "stdout",
          "text": [
            "Q[0]:\n",
            " tensor([[-0.9500, -0.5700,  2.4100,  4.2700,  0.6800,  0.4100,  1.2800, -2.1700],\n",
            "        [ 0.9300,  0.7300, -1.5900,  3.8100,  1.5800,  0.2800,  1.4400,  1.1800],\n",
            "        [ 0.9300, -0.0000, -0.9400, -3.5400, -2.0100,  1.8300, -3.3200, -0.9800],\n",
            "        [-0.3900,  2.6000,  2.6000,  0.8600,  0.8700,  0.9400, -3.7400,  1.9000],\n",
            "        [-1.3300,  1.4000, -2.4400, -0.6600, -2.9400, -0.5600, -2.2800,  0.4400],\n",
            "        [-0.0600, -2.5000,  6.1600, -0.3600,  0.0300, -0.5300, -1.3800, -3.4800]])\n",
            "K[0]:\n",
            " tensor([[-0.5500, -2.0300,  4.9000,  3.0900,  2.5700, -0.9300, -1.5200, -3.1400],\n",
            "        [-0.9600, -4.4500,  0.8400,  4.6200,  1.0600, -2.8100, -0.1100, -2.8400],\n",
            "        [ 4.1200,  0.8300, -2.5900,  0.0700, -3.0700,  0.9000,  0.6200,  3.5800],\n",
            "        [-0.4500, -2.1500, -0.2800,  4.5400, -2.7300, -0.4200, -1.4600,  0.4900],\n",
            "        [ 2.8000, -2.7100, -1.0900,  2.3300, -3.3400,  2.7300, -1.2700,  0.1500],\n",
            "        [-1.2000,  4.3600, -2.9400, -3.2400, -0.4600, -0.1200, -3.1300, -0.8400]])\n",
            "Raw Scores:\n",
            " tensor([[ 11.6400,  10.8800,  -6.7400,   5.4300,   1.0900,  -8.7700],\n",
            "        [ -0.0200,   3.3800,   3.3000,   3.4600,   1.8000,  -4.2200],\n",
            "        [ -5.2400,  -7.8300,   2.9300,  -2.5200,   3.9500,   8.8500],\n",
            "        [  4.0300,  -4.1600,  -1.2200,   0.4700,  -1.5200,   3.8900],\n",
            "        [ -7.4500,  -4.4600,   3.7600,   2.5000,   1.7200,   8.9200],\n",
            "        [ 16.8800,   9.2700, -11.3700,   0.8900,  -0.4500,  -7.2400]])\n",
            "Masked Softmax Attention Weights:\n",
            " tensor([[1.0000, 0.0000, 0.0000, 0.0000, 0.0000, 0.0000],\n",
            "        [0.0300, 0.9700, 0.0000, 0.0000, 0.0000, 0.0000],\n",
            "        [0.0000, 0.0000, 1.0000, 0.0000, 0.0000, 0.0000],\n",
            "        [0.9700, 0.0000, 0.0100, 0.0300, 0.0000, 0.0000],\n",
            "        [0.0000, 0.0000, 0.7100, 0.2000, 0.0900, 0.0000],\n",
            "        [1.0000, 0.0000, 0.0000, 0.0000, 0.0000, 0.0000]])\n",
            "Final Output:\n",
            " tensor([[-4.0200, -2.9600, -0.1800, -0.2800,  1.0600,  1.5600, -1.5300,  3.3900],\n",
            "        [-0.6800, -1.8400, -3.7800, -4.1300, -4.9000,  5.0400, -0.6200,  1.7500],\n",
            "        [-1.7700,  0.7600, -1.5700, -2.3400,  1.4700,  1.5300,  0.5100, -6.9700],\n",
            "        [-3.9000, -2.8700, -0.2600, -0.4100,  1.0100,  1.6700, -1.4500,  3.1600],\n",
            "        [-1.5100,  0.3800, -2.1200, -2.9200,  0.6900,  2.3700,  0.9500, -5.7000],\n",
            "        [-4.0200, -2.9500, -0.1800, -0.2800,  1.0500,  1.5600, -1.5300,  3.3900]])\n"
          ]
        },
        {
          "output_type": "display_data",
          "data": {
            "text/plain": [
              "<Figure size 640x480 with 2 Axes>"
            ],
            "image/png": "[encoded data removed]"
          },
          "metadata": {}
        }
      ],
      "source": [
        "import torch\n",
        "import torch.nn.functional as F\n",
        "import matplotlib.pyplot as plt\n",
        "\n",
        "# Settings\n",
        "B, T, d_model = 1, 6, 8  # batch size, sequence length, model dim\n",
        "x = torch.randn(B, T, d_model)\n",
        "\n",
        "# Linear projections for Q, K, V\n",
        "W_Q = torch.randn(d_model, d_model)\n",
        "W_K = torch.randn(d_model, d_model)\n",
        "W_V = torch.randn(d_model, d_model)\n",
        "\n",
        "Q = x @ W_Q  # (1, 6, 8)\n",
        "K = x @ W_K\n",
        "V = x @ W_V\n",
        "\n",
        "# Scaled dot-product attention\n",
        "scores = Q @ K.transpose(-1, -2) / (d_model ** 0.5)  # (1, 6, 6)\n",
        "\n",
        "# Causal mask (lower triangular)\n",
        "mask = torch.tril(torch.ones(T, T)).bool()\n",
        "scores_masked = scores.masked_fill(~mask, float('-inf'))\n",
        "\n",
        "attn_weights = F.softmax(scores_masked, dim=-1)\n",
        "output = attn_weights @ V  # (1, 6, 8)\n",
        "\n",
        "# Print shapes and values clearly\n",
        "print(\"Q[0]:\\n\", Q[0].round(decimals=2))\n",
        "print(\"K[0]:\\n\", K[0].round(decimals=2))\n",
        "print(\"Raw Scores:\\n\", scores[0].round(decimals=2))\n",
        "print(\"Masked Softmax Attention Weights:\\n\", attn_weights[0].round(decimals=2))\n",
        "print(\"Final Output:\\n\", output[0].round(decimals=2))\n",
        "\n",
        "# Visualize attention\n",
        "plt.imshow(attn_weights[0].detach().numpy(), cmap='Blues')\n",
        "plt.title(\"Attention Weights (Each row = query, each column = key)\")\n",
        "plt.xlabel(\"Key token (j)\")\n",
        "plt.ylabel(\"Query token (i)\")\n",
        "plt.colorbar()\n",
        "plt.show()"
      ]
    },
    {
      "cell_type": "code",
      "source": [
        "import torch\n",
        "import torch.nn.functional as F\n",
        "\n",
        "# Settings\n",
        "batch_size = 1\n",
        "seq_len = 3\n",
        "embed_dim = 4\n",
        "num_heads = 2\n",
        "head_dim = embed_dim // num_heads\n",
        "scale = head_dim ** 0.5\n",
        "\n",
        "# Input: 3 tokens, each with 4-dim embeddings\n",
        "X = torch.randn(batch_size, seq_len, embed_dim)  # (1, 3, 4)\n",
        "\n",
        "# Linear projections for Q, K, V\n",
        "W_q = torch.randn(embed_dim, embed_dim)\n",
        "W_k = torch.randn(embed_dim, embed_dim)\n",
        "W_v = torch.randn(embed_dim, embed_dim)\n",
        "\n",
        "Q = X @ W_q  # (1, 3, 4)\n",
        "K = X @ W_k  # (1, 3, 4)\n",
        "V = X @ W_v  # (1, 3, 4)\n",
        "\n",
        "# Reshape for multi-head attention\n",
        "# From (1, 3, 4) -> (1, 2, 3, 2): batch, heads, tokens, head_dim\n",
        "def split_heads(x):\n",
        "    B, T, C = x.size()\n",
        "    return x.view(B, T, num_heads, head_dim).transpose(1, 2)\n",
        "\n",
        "Q = split_heads(Q)\n",
        "K = split_heads(K)\n",
        "V = split_heads(V)\n",
        "\n",
        "# Attention scores: (B, heads, T, T)\n",
        "scores = Q @ K.transpose(-2, -1) / scale\n",
        "\n",
        "# Apply softmax to get attention weights\n",
        "weights = F.softmax(scores, dim=-1)\n",
        "\n",
        "# Attention output: (B, heads, T, head_dim)\n",
        "attn_out = weights @ V\n",
        "\n",
        "# Concatenate heads: (1, 3, 4)\n",
        "def combine_heads(x):\n",
        "    B, H, T, D = x.size()\n",
        "    return x.transpose(1, 2).contiguous().view(B, T, H * D)\n",
        "\n",
        "output = combine_heads(attn_out)\n",
        "\n",
        "# Final linear projection (optional)\n",
        "W_o = torch.randn(embed_dim, embed_dim)\n",
        "final_output = output @ W_o  # (1, 3, 4)\n",
        "\n",
        "print(\"Final MHA Output:\", final_output)"
      ],
      "metadata": {
        "id": "CPWzWs2Qu4Dz"
      },
      "execution_count": null,
      "outputs": []
    }
  ]
}