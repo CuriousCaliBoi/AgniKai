{
  "nbformat": 4,
  "nbformat_minor": 0,
  "metadata": {
    "colab": {
      "provenance": [],
      "authorship_tag": "ABX9TyPjJs1L3IdfjdaMHOLLkN8F",
      "include_colab_link": true
    },
    "kernelspec": {
      "name": "python3",
      "display_name": "Python 3"
    },
    "language_info": {
      "name": "python"
    }
  },
  "cells": [
    {
      "cell_type": "markdown",
      "metadata": {
        "id": "view-in-github",
        "colab_type": "text"
      },
      "source": [
        "<a href=\"https://colab.research.google.com/github/CuriousCaliBoi/AgniKai/blob/main/Transformer_Circuits.ipynb\" target=\"_parent\"><img src=\"https://colab.research.google.com/assets/colab-badge.svg\" alt=\"Open In Colab\"/></a>"
      ]
    },
    {
      "cell_type": "code",
      "execution_count": null,
      "metadata": {
        "id": "_kcathE2ZCFl"
      },
      "outputs": [],
      "source": [
        "# === Mini Transformer with Attribution Graphs (Phase 1) ===\n",
        "# Phase 1: Minimal Transformer Block (decoder-only) in PyTorch\n",
        "\n",
        "import torch\n",
        "import torch.nn as nn\n",
        "import torch.nn.functional as F\n",
        "\n",
        "class MiniTransformerBlock(nn.Module):\n",
        "    def __init__(self, d_model, n_heads):\n",
        "        super().__init__()\n",
        "        self.ln1 = nn.LayerNorm(d_model)\n",
        "        self.attn = nn.MultiheadAttention(d_model, n_heads, batch_first=True)\n",
        "        self.ln2 = nn.LayerNorm(d_model)\n",
        "        self.ff = nn.Sequential(\n",
        "            nn.Linear(d_model, 4 * d_model),\n",
        "            nn.GELU(),\n",
        "            nn.Linear(4 * d_model, d_model)\n",
        "        )\n",
        "\n",
        "    def forward(self, x):\n",
        "        # Self-attention block\n",
        "        attn_input = self.ln1(x)\n",
        "        attn_output, attn_weights = self.attn(attn_input, attn_input, attn_input)\n",
        "        x = x + attn_output\n",
        "\n",
        "        # Feedforward block\n",
        "        ff_input = self.ln2(x)\n",
        "        x = x + self.ff(ff_input)\n",
        "\n",
        "        return x, attn_weights\n",
        "\n",
        "\n",
        "class MiniTransformer(nn.Module):\n",
        "    def __init__(self, vocab_size, d_model=128, n_heads=4, n_layers=2, max_len=64):\n",
        "        super().__init__()\n",
        "        self.token_embed = nn.Embedding(vocab_size, d_model)\n",
        "        self.pos_embed = nn.Parameter(torch.randn(1, max_len, d_model))\n",
        "        self.blocks = nn.ModuleList([\n",
        "            MiniTransformerBlock(d_model, n_heads) for _ in range(n_layers)\n",
        "        ])\n",
        "        self.ln_f = nn.LayerNorm(d_model)\n",
        "        self.output_proj = nn.Linear(d_model, vocab_size)\n",
        "\n",
        "    def forward(self, idx):\n",
        "        B, T = idx.shape\n",
        "        x = self.token_embed(idx) + self.pos_embed[:, :T, :]\n",
        "        all_attn = []\n",
        "\n",
        "        for block in self.blocks:\n",
        "            x, attn = block(x)\n",
        "            all_attn.append(attn)\n",
        "\n",
        "        x = self.ln_f(x)\n",
        "        logits = self.output_proj(x)\n",
        "        return logits, all_attn\n",
        "\n",
        "\n",
        "# === Example Usage ===\n",
        "vocab_size = 100\n",
        "model = MiniTransformer(vocab_size)\n",
        "\n",
        "# Dummy batch of token IDs\n",
        "x = torch.randint(0, vocab_size, (2, 10))\n",
        "logits, attn_weights = model(x)\n",
        "print(\"Logits shape:\", logits.shape)\n",
        "print(\"Attention weights shape:\", [a.shape for a in attn_weights])"
      ]
    }
  ]
}