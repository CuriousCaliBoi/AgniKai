{
  "nbformat": 4,
  "nbformat_minor": 0,
  "metadata": {
    "colab": {
      "provenance": [],
      "authorship_tag": "ABX9TyPh8b7Rf3ZbJwA6cwlGRD+8",
      "include_colab_link": true
    },
    "kernelspec": {
      "name": "python3",
      "display_name": "Python 3"
    },
    "language_info": {
      "name": "python"
    }
  },
  "cells": [
    {
      "cell_type": "markdown",
      "metadata": {
        "id": "view-in-github",
        "colab_type": "text"
      },
      "source": [
        "<a href=\"https://colab.research.google.com/github/CuriousCaliBoi/AgniKai/blob/main/CoVariance_MLP.ipynb\" target=\"_parent\"><img src=\"https://colab.research.google.com/assets/colab-badge.svg\" alt=\"Open In Colab\"/></a>"
      ]
    },
    {
      "cell_type": "code",
      "execution_count": null,
      "metadata": {
        "id": "sdFOjMwS2R5C"
      },
      "outputs": [],
      "source": [
        "# ╔══════════════════════════════════════════════════════════════╗\n",
        "# ║ 1. SETUP  +  QUICK TRAIN                                    ║\n",
        "# ╚══════════════════════════════════════════════════════════════╝\n",
        "!pip -q install torch torchvision einops torchinfo \\\n",
        "                 git+https://github.com/yuanli2333/CKA-using-pytorch.git\n",
        "\n",
        "import torch, torch.nn as nn, torch.nn.functional as F\n",
        "from torch.utils.data import DataLoader\n",
        "from torchvision import datasets, transforms\n",
        "from torch.optim import Adam\n",
        "\n",
        "device = \"cuda\" if torch.cuda.is_available() else \"cpu\"\n",
        "\n",
        "# data\n",
        "train = datasets.MNIST('.', train=True,  download=True,\n",
        "                       transform=transforms.ToTensor())\n",
        "test  = datasets.MNIST('.', train=False, download=True,\n",
        "                       transform=transforms.ToTensor())\n",
        "train_loader = DataLoader(train, batch_size=512, shuffle=True)\n",
        "test_loader  = DataLoader(test,  batch_size=1024)\n",
        "\n",
        "# model\n",
        "class TinyMLP(nn.Module):\n",
        "    def __init__(self, use_bn=False):\n",
        "        super().__init__()\n",
        "        L = []\n",
        "        def lin(i,o): return [nn.Linear(i,o), nn.BatchNorm1d(o)] if use_bn else [nn.Linear(i,o)]\n",
        "        L += [nn.Flatten(), *lin(784,256), nn.ReLU(),\n",
        "              *lin(256,64) , nn.ReLU(),\n",
        "              nn.Linear(64,10)]\n",
        "        self.f = nn.Sequential(*L)\n",
        "    def forward(self,x): return self.f(x)\n",
        "\n",
        "net = TinyMLP(use_bn=False).to(device)\n",
        "opt = Adam(net.parameters(), 1e-3)\n",
        "\n",
        "# quick train (3 epochs)\n",
        "for epoch in range(3):\n",
        "    net.train()\n",
        "    for x,y in train_loader:\n",
        "        x,y = x.to(device), y.to(device)\n",
        "        opt.zero_grad()\n",
        "        loss = F.cross_entropy(net(x), y)\n",
        "        loss.backward(); opt.step()\n",
        "    print(f\"epoch {epoch+1}: loss {loss.item():.4f}\")"
      ]
    }
  ]
}