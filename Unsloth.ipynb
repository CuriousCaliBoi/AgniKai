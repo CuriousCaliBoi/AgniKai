{
  "nbformat": 4,
  "nbformat_minor": 0,
  "metadata": {
    "colab": {
      "provenance": [],
      "authorship_tag": "ABX9TyNabdJi9oXqoQlYRhRoYmi7",
      "include_colab_link": true
    },
    "kernelspec": {
      "name": "python3",
      "display_name": "Python 3"
    },
    "language_info": {
      "name": "python"
    }
  },
  "cells": [
    {
      "cell_type": "markdown",
      "metadata": {
        "id": "view-in-github",
        "colab_type": "text"
      },
      "source": [
        "<a href=\"https://colab.research.google.com/github/CuriousCaliBoi/AgniKai/blob/main/Unsloth.ipynb\" target=\"_parent\"><img src=\"https://colab.research.google.com/assets/colab-badge.svg\" alt=\"Open In Colab\"/></a>"
      ]
    },
    {
      "cell_type": "code",
      "execution_count": 1,
      "metadata": {
        "colab": {
          "base_uri": "https://localhost:8080/"
        },
        "id": "FqAEpUsA9wK5",
        "outputId": "ce8d7d23-fca8-4ca4-9305-1d235e5ff646"
      },
      "outputs": [
        {
          "output_type": "stream",
          "name": "stdout",
          "text": [
            "Cloning into 'AgniKai'...\n",
            "remote: Enumerating objects: 14, done.\u001b[K\n",
            "remote: Counting objects: 100% (14/14), done.\u001b[K\n",
            "remote: Compressing objects: 100% (9/9), done.\u001b[K\n",
            "Receiving objects: 100% (14/14), 5.79 KiB | 5.79 MiB/s, done.\n",
            "Resolving deltas: 100% (1/1), done.\n",
            "remote: Total 14 (delta 1), reused 10 (delta 1), pack-reused 0 (from 0)\u001b[K\n"
          ]
        }
      ],
      "source": [
        "!git clone https://github.com/CuriousCaliBoi/AgniKai"
      ]
    },
    {
      "cell_type": "code",
      "source": [
        "%cd \"sample_data\""
      ],
      "metadata": {
        "colab": {
          "base_uri": "https://localhost:8080/"
        },
        "id": "CLhqPK_7-F7e",
        "outputId": "18f173a1-f44b-47dc-e41d-44b4d7d44669"
      },
      "execution_count": 10,
      "outputs": [
        {
          "output_type": "stream",
          "name": "stdout",
          "text": [
            "/content/sample_data\n"
          ]
        }
      ]
    },
    {
      "cell_type": "code",
      "source": [],
      "metadata": {
        "colab": {
          "base_uri": "https://localhost:8080/"
        },
        "id": "RSTK598n-LDx",
        "outputId": "3ee50fca-f121-433d-d1fc-688ede43f1c1"
      },
      "execution_count": 11,
      "outputs": [
        {
          "output_type": "stream",
          "name": "stdout",
          "text": [
            "anscombe.json\t\t      mnist_test.csv\n",
            "california_housing_test.csv   mnist_train_small.csv\n",
            "california_housing_train.csv  README.md\n"
          ]
        }
      ]
    }
  ]
}